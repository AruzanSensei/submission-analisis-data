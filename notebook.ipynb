{
  "cells": [
    {
      "cell_type": "markdown",
      "metadata": {
        "id": "H9wADwK78DCz"
      },
      "source": [
        "# Proyek Analisis Data: Bike Sharing\n",
        "- **Nama:** Alzan Adytia Juniar\n",
        "- **Email:** alzanadytia.j@gmail.com\n",
        "- **ID Dicoding:** alzan_adytia_juniar"
      ]
    },
    {
      "cell_type": "markdown",
      "metadata": {
        "id": "eE0raob58DC0"
      },
      "source": [
        "## Menentukan Pertanyaan Bisnis"
      ]
    },
    {
      "cell_type": "markdown",
      "metadata": {
        "id": "GmQeQ5YF8DC0"
      },
      "source": [
        "- Bagaimana pola jumlah penyewaan sepeda berdasarkan waktu, baik secara jam maupun bulanan? Pada jam dan bulan berapa penyewaan meningkat?\n",
        "- Seberapa sering pelanggan menyewa sepeda dalam beberapa bulan terakhir?\n",
        "- Pada musim apa jumlah penyewaan sepeda mencapai puncaknya?"
      ]
    },
    {
      "cell_type": "markdown",
      "metadata": {
        "id": "H-z4QGlO8DC1"
      },
      "source": [
        "## Import Semua Packages/Library yang Digunakan"
      ]
    },
    {
      "cell_type": "code",
      "execution_count": 20,
      "metadata": {
        "id": "FVYwaObI8DC1"
      },
      "outputs": [],
      "source": [
        "import numpy as np\n",
        "import pandas as pd\n",
        "import seaborn as sns\n",
        "import matplotlib.pyplot as plt"
      ]
    },
    {
      "cell_type": "markdown",
      "metadata": {
        "id": "h_Sh51Xy8DC1"
      },
      "source": [
        "## Data Wrangling"
      ]
    },
    {
      "cell_type": "markdown",
      "metadata": {
        "id": "sXU2GBYu8DC1"
      },
      "source": [
        "### Gathering Data"
      ]
    },
    {
      "cell_type": "markdown",
      "metadata": {
        "id": "zfsUjCgDtVK1"
      },
      "source": [
        "upload dataset untuk data \"day.csv\" & \"hour.csv\""
      ]
    },
    {
      "cell_type": "code",
      "execution_count": 21,
      "metadata": {
        "id": "zjCBk1BI8DC1"
      },
      "outputs": [],
      "source": [
        "df_day = pd.read_csv(\"day.csv\", delimiter=\",\")\n",
        "df_hour = pd.read_csv(\"hour.csv\", delimiter=\",\")"
      ]
    },
    {
      "cell_type": "markdown",
      "metadata": {
        "id": "kE5p8dNt5Ube"
      },
      "source": [
        "Menampilan 5 data pada dataset \"day.csv\""
      ]
    },
    {
      "cell_type": "code",
      "execution_count": 22,
      "metadata": {
        "colab": {
          "base_uri": "https://localhost:8080/",
          "height": 313
        },
        "id": "S4Ubu_y9tu65",
        "outputId": "9fec27f5-956d-4d42-b473-0cba0d42d9b2"
      },
      "outputs": [
        {
          "data": {
            "text/html": [
              "<div>\n",
              "<style scoped>\n",
              "    .dataframe tbody tr th:only-of-type {\n",
              "        vertical-align: middle;\n",
              "    }\n",
              "\n",
              "    .dataframe tbody tr th {\n",
              "        vertical-align: top;\n",
              "    }\n",
              "\n",
              "    .dataframe thead th {\n",
              "        text-align: right;\n",
              "    }\n",
              "</style>\n",
              "<table border=\"1\" class=\"dataframe\">\n",
              "  <thead>\n",
              "    <tr style=\"text-align: right;\">\n",
              "      <th></th>\n",
              "      <th>instant</th>\n",
              "      <th>dteday</th>\n",
              "      <th>season</th>\n",
              "      <th>yr</th>\n",
              "      <th>mnth</th>\n",
              "      <th>holiday</th>\n",
              "      <th>weekday</th>\n",
              "      <th>workingday</th>\n",
              "      <th>weathersit</th>\n",
              "      <th>temp</th>\n",
              "      <th>atemp</th>\n",
              "      <th>hum</th>\n",
              "      <th>windspeed</th>\n",
              "      <th>casual</th>\n",
              "      <th>registered</th>\n",
              "      <th>cnt</th>\n",
              "    </tr>\n",
              "  </thead>\n",
              "  <tbody>\n",
              "    <tr>\n",
              "      <th>0</th>\n",
              "      <td>1</td>\n",
              "      <td>2011-01-01</td>\n",
              "      <td>1</td>\n",
              "      <td>0</td>\n",
              "      <td>1</td>\n",
              "      <td>0</td>\n",
              "      <td>6</td>\n",
              "      <td>0</td>\n",
              "      <td>2</td>\n",
              "      <td>0.344167</td>\n",
              "      <td>0.363625</td>\n",
              "      <td>0.805833</td>\n",
              "      <td>0.160446</td>\n",
              "      <td>331</td>\n",
              "      <td>654</td>\n",
              "      <td>985</td>\n",
              "    </tr>\n",
              "    <tr>\n",
              "      <th>1</th>\n",
              "      <td>2</td>\n",
              "      <td>2011-01-02</td>\n",
              "      <td>1</td>\n",
              "      <td>0</td>\n",
              "      <td>1</td>\n",
              "      <td>0</td>\n",
              "      <td>0</td>\n",
              "      <td>0</td>\n",
              "      <td>2</td>\n",
              "      <td>0.363478</td>\n",
              "      <td>0.353739</td>\n",
              "      <td>0.696087</td>\n",
              "      <td>0.248539</td>\n",
              "      <td>131</td>\n",
              "      <td>670</td>\n",
              "      <td>801</td>\n",
              "    </tr>\n",
              "    <tr>\n",
              "      <th>2</th>\n",
              "      <td>3</td>\n",
              "      <td>2011-01-03</td>\n",
              "      <td>1</td>\n",
              "      <td>0</td>\n",
              "      <td>1</td>\n",
              "      <td>0</td>\n",
              "      <td>1</td>\n",
              "      <td>1</td>\n",
              "      <td>1</td>\n",
              "      <td>0.196364</td>\n",
              "      <td>0.189405</td>\n",
              "      <td>0.437273</td>\n",
              "      <td>0.248309</td>\n",
              "      <td>120</td>\n",
              "      <td>1229</td>\n",
              "      <td>1349</td>\n",
              "    </tr>\n",
              "    <tr>\n",
              "      <th>3</th>\n",
              "      <td>4</td>\n",
              "      <td>2011-01-04</td>\n",
              "      <td>1</td>\n",
              "      <td>0</td>\n",
              "      <td>1</td>\n",
              "      <td>0</td>\n",
              "      <td>2</td>\n",
              "      <td>1</td>\n",
              "      <td>1</td>\n",
              "      <td>0.200000</td>\n",
              "      <td>0.212122</td>\n",
              "      <td>0.590435</td>\n",
              "      <td>0.160296</td>\n",
              "      <td>108</td>\n",
              "      <td>1454</td>\n",
              "      <td>1562</td>\n",
              "    </tr>\n",
              "    <tr>\n",
              "      <th>4</th>\n",
              "      <td>5</td>\n",
              "      <td>2011-01-05</td>\n",
              "      <td>1</td>\n",
              "      <td>0</td>\n",
              "      <td>1</td>\n",
              "      <td>0</td>\n",
              "      <td>3</td>\n",
              "      <td>1</td>\n",
              "      <td>1</td>\n",
              "      <td>0.226957</td>\n",
              "      <td>0.229270</td>\n",
              "      <td>0.436957</td>\n",
              "      <td>0.186900</td>\n",
              "      <td>82</td>\n",
              "      <td>1518</td>\n",
              "      <td>1600</td>\n",
              "    </tr>\n",
              "  </tbody>\n",
              "</table>\n",
              "</div>"
            ],
            "text/plain": [
              "   instant      dteday  season  yr  mnth  holiday  weekday  workingday  \\\n",
              "0        1  2011-01-01       1   0     1        0        6           0   \n",
              "1        2  2011-01-02       1   0     1        0        0           0   \n",
              "2        3  2011-01-03       1   0     1        0        1           1   \n",
              "3        4  2011-01-04       1   0     1        0        2           1   \n",
              "4        5  2011-01-05       1   0     1        0        3           1   \n",
              "\n",
              "   weathersit      temp     atemp       hum  windspeed  casual  registered  \\\n",
              "0           2  0.344167  0.363625  0.805833   0.160446     331         654   \n",
              "1           2  0.363478  0.353739  0.696087   0.248539     131         670   \n",
              "2           1  0.196364  0.189405  0.437273   0.248309     120        1229   \n",
              "3           1  0.200000  0.212122  0.590435   0.160296     108        1454   \n",
              "4           1  0.226957  0.229270  0.436957   0.186900      82        1518   \n",
              "\n",
              "    cnt  \n",
              "0   985  \n",
              "1   801  \n",
              "2  1349  \n",
              "3  1562  \n",
              "4  1600  "
            ]
          },
          "execution_count": 22,
          "metadata": {},
          "output_type": "execute_result"
        }
      ],
      "source": [
        "df_day.head()"
      ]
    },
    {
      "cell_type": "markdown",
      "metadata": {
        "id": "_kr6TYQn5YdK"
      },
      "source": [
        "Menampilan 5 data pada dataset \"hour.csv\""
      ]
    },
    {
      "cell_type": "code",
      "execution_count": 23,
      "metadata": {
        "colab": {
          "base_uri": "https://localhost:8080/",
          "height": 617
        },
        "id": "Oh-wR6WitjEx",
        "outputId": "27a8ea1d-e04a-4ce3-fd6b-b1ec1b1ef774"
      },
      "outputs": [
        {
          "data": {
            "text/html": [
              "<div>\n",
              "<style scoped>\n",
              "    .dataframe tbody tr th:only-of-type {\n",
              "        vertical-align: middle;\n",
              "    }\n",
              "\n",
              "    .dataframe tbody tr th {\n",
              "        vertical-align: top;\n",
              "    }\n",
              "\n",
              "    .dataframe thead th {\n",
              "        text-align: right;\n",
              "    }\n",
              "</style>\n",
              "<table border=\"1\" class=\"dataframe\">\n",
              "  <thead>\n",
              "    <tr style=\"text-align: right;\">\n",
              "      <th></th>\n",
              "      <th>instant</th>\n",
              "      <th>dteday</th>\n",
              "      <th>season</th>\n",
              "      <th>yr</th>\n",
              "      <th>mnth</th>\n",
              "      <th>hr</th>\n",
              "      <th>holiday</th>\n",
              "      <th>weekday</th>\n",
              "      <th>workingday</th>\n",
              "      <th>weathersit</th>\n",
              "      <th>temp</th>\n",
              "      <th>atemp</th>\n",
              "      <th>hum</th>\n",
              "      <th>windspeed</th>\n",
              "      <th>casual</th>\n",
              "      <th>registered</th>\n",
              "      <th>cnt</th>\n",
              "    </tr>\n",
              "  </thead>\n",
              "  <tbody>\n",
              "    <tr>\n",
              "      <th>0</th>\n",
              "      <td>1</td>\n",
              "      <td>2011-01-01</td>\n",
              "      <td>1</td>\n",
              "      <td>0</td>\n",
              "      <td>1</td>\n",
              "      <td>0</td>\n",
              "      <td>0</td>\n",
              "      <td>6</td>\n",
              "      <td>0</td>\n",
              "      <td>1</td>\n",
              "      <td>0.24</td>\n",
              "      <td>0.2879</td>\n",
              "      <td>0.81</td>\n",
              "      <td>0.0000</td>\n",
              "      <td>3</td>\n",
              "      <td>13</td>\n",
              "      <td>16</td>\n",
              "    </tr>\n",
              "    <tr>\n",
              "      <th>1</th>\n",
              "      <td>2</td>\n",
              "      <td>2011-01-01</td>\n",
              "      <td>1</td>\n",
              "      <td>0</td>\n",
              "      <td>1</td>\n",
              "      <td>1</td>\n",
              "      <td>0</td>\n",
              "      <td>6</td>\n",
              "      <td>0</td>\n",
              "      <td>1</td>\n",
              "      <td>0.22</td>\n",
              "      <td>0.2727</td>\n",
              "      <td>0.80</td>\n",
              "      <td>0.0000</td>\n",
              "      <td>8</td>\n",
              "      <td>32</td>\n",
              "      <td>40</td>\n",
              "    </tr>\n",
              "    <tr>\n",
              "      <th>2</th>\n",
              "      <td>3</td>\n",
              "      <td>2011-01-01</td>\n",
              "      <td>1</td>\n",
              "      <td>0</td>\n",
              "      <td>1</td>\n",
              "      <td>2</td>\n",
              "      <td>0</td>\n",
              "      <td>6</td>\n",
              "      <td>0</td>\n",
              "      <td>1</td>\n",
              "      <td>0.22</td>\n",
              "      <td>0.2727</td>\n",
              "      <td>0.80</td>\n",
              "      <td>0.0000</td>\n",
              "      <td>5</td>\n",
              "      <td>27</td>\n",
              "      <td>32</td>\n",
              "    </tr>\n",
              "    <tr>\n",
              "      <th>3</th>\n",
              "      <td>4</td>\n",
              "      <td>2011-01-01</td>\n",
              "      <td>1</td>\n",
              "      <td>0</td>\n",
              "      <td>1</td>\n",
              "      <td>3</td>\n",
              "      <td>0</td>\n",
              "      <td>6</td>\n",
              "      <td>0</td>\n",
              "      <td>1</td>\n",
              "      <td>0.24</td>\n",
              "      <td>0.2879</td>\n",
              "      <td>0.75</td>\n",
              "      <td>0.0000</td>\n",
              "      <td>3</td>\n",
              "      <td>10</td>\n",
              "      <td>13</td>\n",
              "    </tr>\n",
              "    <tr>\n",
              "      <th>4</th>\n",
              "      <td>5</td>\n",
              "      <td>2011-01-01</td>\n",
              "      <td>1</td>\n",
              "      <td>0</td>\n",
              "      <td>1</td>\n",
              "      <td>4</td>\n",
              "      <td>0</td>\n",
              "      <td>6</td>\n",
              "      <td>0</td>\n",
              "      <td>1</td>\n",
              "      <td>0.24</td>\n",
              "      <td>0.2879</td>\n",
              "      <td>0.75</td>\n",
              "      <td>0.0000</td>\n",
              "      <td>0</td>\n",
              "      <td>1</td>\n",
              "      <td>1</td>\n",
              "    </tr>\n",
              "    <tr>\n",
              "      <th>...</th>\n",
              "      <td>...</td>\n",
              "      <td>...</td>\n",
              "      <td>...</td>\n",
              "      <td>...</td>\n",
              "      <td>...</td>\n",
              "      <td>...</td>\n",
              "      <td>...</td>\n",
              "      <td>...</td>\n",
              "      <td>...</td>\n",
              "      <td>...</td>\n",
              "      <td>...</td>\n",
              "      <td>...</td>\n",
              "      <td>...</td>\n",
              "      <td>...</td>\n",
              "      <td>...</td>\n",
              "      <td>...</td>\n",
              "      <td>...</td>\n",
              "    </tr>\n",
              "    <tr>\n",
              "      <th>17374</th>\n",
              "      <td>17375</td>\n",
              "      <td>2012-12-31</td>\n",
              "      <td>1</td>\n",
              "      <td>1</td>\n",
              "      <td>12</td>\n",
              "      <td>19</td>\n",
              "      <td>0</td>\n",
              "      <td>1</td>\n",
              "      <td>1</td>\n",
              "      <td>2</td>\n",
              "      <td>0.26</td>\n",
              "      <td>0.2576</td>\n",
              "      <td>0.60</td>\n",
              "      <td>0.1642</td>\n",
              "      <td>11</td>\n",
              "      <td>108</td>\n",
              "      <td>119</td>\n",
              "    </tr>\n",
              "    <tr>\n",
              "      <th>17375</th>\n",
              "      <td>17376</td>\n",
              "      <td>2012-12-31</td>\n",
              "      <td>1</td>\n",
              "      <td>1</td>\n",
              "      <td>12</td>\n",
              "      <td>20</td>\n",
              "      <td>0</td>\n",
              "      <td>1</td>\n",
              "      <td>1</td>\n",
              "      <td>2</td>\n",
              "      <td>0.26</td>\n",
              "      <td>0.2576</td>\n",
              "      <td>0.60</td>\n",
              "      <td>0.1642</td>\n",
              "      <td>8</td>\n",
              "      <td>81</td>\n",
              "      <td>89</td>\n",
              "    </tr>\n",
              "    <tr>\n",
              "      <th>17376</th>\n",
              "      <td>17377</td>\n",
              "      <td>2012-12-31</td>\n",
              "      <td>1</td>\n",
              "      <td>1</td>\n",
              "      <td>12</td>\n",
              "      <td>21</td>\n",
              "      <td>0</td>\n",
              "      <td>1</td>\n",
              "      <td>1</td>\n",
              "      <td>1</td>\n",
              "      <td>0.26</td>\n",
              "      <td>0.2576</td>\n",
              "      <td>0.60</td>\n",
              "      <td>0.1642</td>\n",
              "      <td>7</td>\n",
              "      <td>83</td>\n",
              "      <td>90</td>\n",
              "    </tr>\n",
              "    <tr>\n",
              "      <th>17377</th>\n",
              "      <td>17378</td>\n",
              "      <td>2012-12-31</td>\n",
              "      <td>1</td>\n",
              "      <td>1</td>\n",
              "      <td>12</td>\n",
              "      <td>22</td>\n",
              "      <td>0</td>\n",
              "      <td>1</td>\n",
              "      <td>1</td>\n",
              "      <td>1</td>\n",
              "      <td>0.26</td>\n",
              "      <td>0.2727</td>\n",
              "      <td>0.56</td>\n",
              "      <td>0.1343</td>\n",
              "      <td>13</td>\n",
              "      <td>48</td>\n",
              "      <td>61</td>\n",
              "    </tr>\n",
              "    <tr>\n",
              "      <th>17378</th>\n",
              "      <td>17379</td>\n",
              "      <td>2012-12-31</td>\n",
              "      <td>1</td>\n",
              "      <td>1</td>\n",
              "      <td>12</td>\n",
              "      <td>23</td>\n",
              "      <td>0</td>\n",
              "      <td>1</td>\n",
              "      <td>1</td>\n",
              "      <td>1</td>\n",
              "      <td>0.26</td>\n",
              "      <td>0.2727</td>\n",
              "      <td>0.65</td>\n",
              "      <td>0.1343</td>\n",
              "      <td>12</td>\n",
              "      <td>37</td>\n",
              "      <td>49</td>\n",
              "    </tr>\n",
              "  </tbody>\n",
              "</table>\n",
              "<p>17379 rows × 17 columns</p>\n",
              "</div>"
            ],
            "text/plain": [
              "       instant      dteday  season  yr  mnth  hr  holiday  weekday  \\\n",
              "0            1  2011-01-01       1   0     1   0        0        6   \n",
              "1            2  2011-01-01       1   0     1   1        0        6   \n",
              "2            3  2011-01-01       1   0     1   2        0        6   \n",
              "3            4  2011-01-01       1   0     1   3        0        6   \n",
              "4            5  2011-01-01       1   0     1   4        0        6   \n",
              "...        ...         ...     ...  ..   ...  ..      ...      ...   \n",
              "17374    17375  2012-12-31       1   1    12  19        0        1   \n",
              "17375    17376  2012-12-31       1   1    12  20        0        1   \n",
              "17376    17377  2012-12-31       1   1    12  21        0        1   \n",
              "17377    17378  2012-12-31       1   1    12  22        0        1   \n",
              "17378    17379  2012-12-31       1   1    12  23        0        1   \n",
              "\n",
              "       workingday  weathersit  temp   atemp   hum  windspeed  casual  \\\n",
              "0               0           1  0.24  0.2879  0.81     0.0000       3   \n",
              "1               0           1  0.22  0.2727  0.80     0.0000       8   \n",
              "2               0           1  0.22  0.2727  0.80     0.0000       5   \n",
              "3               0           1  0.24  0.2879  0.75     0.0000       3   \n",
              "4               0           1  0.24  0.2879  0.75     0.0000       0   \n",
              "...           ...         ...   ...     ...   ...        ...     ...   \n",
              "17374           1           2  0.26  0.2576  0.60     0.1642      11   \n",
              "17375           1           2  0.26  0.2576  0.60     0.1642       8   \n",
              "17376           1           1  0.26  0.2576  0.60     0.1642       7   \n",
              "17377           1           1  0.26  0.2727  0.56     0.1343      13   \n",
              "17378           1           1  0.26  0.2727  0.65     0.1343      12   \n",
              "\n",
              "       registered  cnt  \n",
              "0              13   16  \n",
              "1              32   40  \n",
              "2              27   32  \n",
              "3              10   13  \n",
              "4               1    1  \n",
              "...           ...  ...  \n",
              "17374         108  119  \n",
              "17375          81   89  \n",
              "17376          83   90  \n",
              "17377          48   61  \n",
              "17378          37   49  \n",
              "\n",
              "[17379 rows x 17 columns]"
            ]
          },
          "execution_count": 23,
          "metadata": {},
          "output_type": "execute_result"
        }
      ],
      "source": [
        "df_hour"
      ]
    },
    {
      "cell_type": "markdown",
      "metadata": {
        "id": "nT5eI87GBQaH"
      },
      "source": [
        "Menggabungkan dataset \"day.csv\" dan \"hour.csv\" lalu mengganti nama kolom menyesuaikan kategori dengan menambahkan kata day dan hour"
      ]
    },
    {
      "cell_type": "code",
      "execution_count": 24,
      "metadata": {
        "colab": {
          "base_uri": "https://localhost:8080/",
          "height": 617
        },
        "id": "25wFyZ8Duje-",
        "outputId": "9068f36e-45a8-4bd3-d774-af0c28d8aa6a"
      },
      "outputs": [
        {
          "data": {
            "text/html": [
              "<div>\n",
              "<style scoped>\n",
              "    .dataframe tbody tr th:only-of-type {\n",
              "        vertical-align: middle;\n",
              "    }\n",
              "\n",
              "    .dataframe tbody tr th {\n",
              "        vertical-align: top;\n",
              "    }\n",
              "\n",
              "    .dataframe thead th {\n",
              "        text-align: right;\n",
              "    }\n",
              "</style>\n",
              "<table border=\"1\" class=\"dataframe\">\n",
              "  <thead>\n",
              "    <tr style=\"text-align: right;\">\n",
              "      <th></th>\n",
              "      <th>instant_daily</th>\n",
              "      <th>dteday</th>\n",
              "      <th>season_daily</th>\n",
              "      <th>yr_daily</th>\n",
              "      <th>mnth_daily</th>\n",
              "      <th>holiday_daily</th>\n",
              "      <th>weekday_daily</th>\n",
              "      <th>workingday_daily</th>\n",
              "      <th>weathersit_daily</th>\n",
              "      <th>temp_daily</th>\n",
              "      <th>...</th>\n",
              "      <th>weekday_hourly</th>\n",
              "      <th>workingday_hourly</th>\n",
              "      <th>weathersit_hourly</th>\n",
              "      <th>temp_hourly</th>\n",
              "      <th>atemp_hourly</th>\n",
              "      <th>hum_hourly</th>\n",
              "      <th>windspeed_hourly</th>\n",
              "      <th>casual_hourly</th>\n",
              "      <th>registered_hourly</th>\n",
              "      <th>cnt_hourly</th>\n",
              "    </tr>\n",
              "  </thead>\n",
              "  <tbody>\n",
              "    <tr>\n",
              "      <th>0</th>\n",
              "      <td>1</td>\n",
              "      <td>2011-01-01</td>\n",
              "      <td>1</td>\n",
              "      <td>0</td>\n",
              "      <td>1</td>\n",
              "      <td>0</td>\n",
              "      <td>6</td>\n",
              "      <td>0</td>\n",
              "      <td>2</td>\n",
              "      <td>0.344167</td>\n",
              "      <td>...</td>\n",
              "      <td>6</td>\n",
              "      <td>0</td>\n",
              "      <td>1</td>\n",
              "      <td>0.24</td>\n",
              "      <td>0.2879</td>\n",
              "      <td>0.81</td>\n",
              "      <td>0.0000</td>\n",
              "      <td>3</td>\n",
              "      <td>13</td>\n",
              "      <td>16</td>\n",
              "    </tr>\n",
              "    <tr>\n",
              "      <th>1</th>\n",
              "      <td>1</td>\n",
              "      <td>2011-01-01</td>\n",
              "      <td>1</td>\n",
              "      <td>0</td>\n",
              "      <td>1</td>\n",
              "      <td>0</td>\n",
              "      <td>6</td>\n",
              "      <td>0</td>\n",
              "      <td>2</td>\n",
              "      <td>0.344167</td>\n",
              "      <td>...</td>\n",
              "      <td>6</td>\n",
              "      <td>0</td>\n",
              "      <td>1</td>\n",
              "      <td>0.22</td>\n",
              "      <td>0.2727</td>\n",
              "      <td>0.80</td>\n",
              "      <td>0.0000</td>\n",
              "      <td>8</td>\n",
              "      <td>32</td>\n",
              "      <td>40</td>\n",
              "    </tr>\n",
              "    <tr>\n",
              "      <th>2</th>\n",
              "      <td>1</td>\n",
              "      <td>2011-01-01</td>\n",
              "      <td>1</td>\n",
              "      <td>0</td>\n",
              "      <td>1</td>\n",
              "      <td>0</td>\n",
              "      <td>6</td>\n",
              "      <td>0</td>\n",
              "      <td>2</td>\n",
              "      <td>0.344167</td>\n",
              "      <td>...</td>\n",
              "      <td>6</td>\n",
              "      <td>0</td>\n",
              "      <td>1</td>\n",
              "      <td>0.22</td>\n",
              "      <td>0.2727</td>\n",
              "      <td>0.80</td>\n",
              "      <td>0.0000</td>\n",
              "      <td>5</td>\n",
              "      <td>27</td>\n",
              "      <td>32</td>\n",
              "    </tr>\n",
              "    <tr>\n",
              "      <th>3</th>\n",
              "      <td>1</td>\n",
              "      <td>2011-01-01</td>\n",
              "      <td>1</td>\n",
              "      <td>0</td>\n",
              "      <td>1</td>\n",
              "      <td>0</td>\n",
              "      <td>6</td>\n",
              "      <td>0</td>\n",
              "      <td>2</td>\n",
              "      <td>0.344167</td>\n",
              "      <td>...</td>\n",
              "      <td>6</td>\n",
              "      <td>0</td>\n",
              "      <td>1</td>\n",
              "      <td>0.24</td>\n",
              "      <td>0.2879</td>\n",
              "      <td>0.75</td>\n",
              "      <td>0.0000</td>\n",
              "      <td>3</td>\n",
              "      <td>10</td>\n",
              "      <td>13</td>\n",
              "    </tr>\n",
              "    <tr>\n",
              "      <th>4</th>\n",
              "      <td>1</td>\n",
              "      <td>2011-01-01</td>\n",
              "      <td>1</td>\n",
              "      <td>0</td>\n",
              "      <td>1</td>\n",
              "      <td>0</td>\n",
              "      <td>6</td>\n",
              "      <td>0</td>\n",
              "      <td>2</td>\n",
              "      <td>0.344167</td>\n",
              "      <td>...</td>\n",
              "      <td>6</td>\n",
              "      <td>0</td>\n",
              "      <td>1</td>\n",
              "      <td>0.24</td>\n",
              "      <td>0.2879</td>\n",
              "      <td>0.75</td>\n",
              "      <td>0.0000</td>\n",
              "      <td>0</td>\n",
              "      <td>1</td>\n",
              "      <td>1</td>\n",
              "    </tr>\n",
              "    <tr>\n",
              "      <th>...</th>\n",
              "      <td>...</td>\n",
              "      <td>...</td>\n",
              "      <td>...</td>\n",
              "      <td>...</td>\n",
              "      <td>...</td>\n",
              "      <td>...</td>\n",
              "      <td>...</td>\n",
              "      <td>...</td>\n",
              "      <td>...</td>\n",
              "      <td>...</td>\n",
              "      <td>...</td>\n",
              "      <td>...</td>\n",
              "      <td>...</td>\n",
              "      <td>...</td>\n",
              "      <td>...</td>\n",
              "      <td>...</td>\n",
              "      <td>...</td>\n",
              "      <td>...</td>\n",
              "      <td>...</td>\n",
              "      <td>...</td>\n",
              "      <td>...</td>\n",
              "    </tr>\n",
              "    <tr>\n",
              "      <th>17374</th>\n",
              "      <td>731</td>\n",
              "      <td>2012-12-31</td>\n",
              "      <td>1</td>\n",
              "      <td>1</td>\n",
              "      <td>12</td>\n",
              "      <td>0</td>\n",
              "      <td>1</td>\n",
              "      <td>1</td>\n",
              "      <td>2</td>\n",
              "      <td>0.215833</td>\n",
              "      <td>...</td>\n",
              "      <td>1</td>\n",
              "      <td>1</td>\n",
              "      <td>2</td>\n",
              "      <td>0.26</td>\n",
              "      <td>0.2576</td>\n",
              "      <td>0.60</td>\n",
              "      <td>0.1642</td>\n",
              "      <td>11</td>\n",
              "      <td>108</td>\n",
              "      <td>119</td>\n",
              "    </tr>\n",
              "    <tr>\n",
              "      <th>17375</th>\n",
              "      <td>731</td>\n",
              "      <td>2012-12-31</td>\n",
              "      <td>1</td>\n",
              "      <td>1</td>\n",
              "      <td>12</td>\n",
              "      <td>0</td>\n",
              "      <td>1</td>\n",
              "      <td>1</td>\n",
              "      <td>2</td>\n",
              "      <td>0.215833</td>\n",
              "      <td>...</td>\n",
              "      <td>1</td>\n",
              "      <td>1</td>\n",
              "      <td>2</td>\n",
              "      <td>0.26</td>\n",
              "      <td>0.2576</td>\n",
              "      <td>0.60</td>\n",
              "      <td>0.1642</td>\n",
              "      <td>8</td>\n",
              "      <td>81</td>\n",
              "      <td>89</td>\n",
              "    </tr>\n",
              "    <tr>\n",
              "      <th>17376</th>\n",
              "      <td>731</td>\n",
              "      <td>2012-12-31</td>\n",
              "      <td>1</td>\n",
              "      <td>1</td>\n",
              "      <td>12</td>\n",
              "      <td>0</td>\n",
              "      <td>1</td>\n",
              "      <td>1</td>\n",
              "      <td>2</td>\n",
              "      <td>0.215833</td>\n",
              "      <td>...</td>\n",
              "      <td>1</td>\n",
              "      <td>1</td>\n",
              "      <td>1</td>\n",
              "      <td>0.26</td>\n",
              "      <td>0.2576</td>\n",
              "      <td>0.60</td>\n",
              "      <td>0.1642</td>\n",
              "      <td>7</td>\n",
              "      <td>83</td>\n",
              "      <td>90</td>\n",
              "    </tr>\n",
              "    <tr>\n",
              "      <th>17377</th>\n",
              "      <td>731</td>\n",
              "      <td>2012-12-31</td>\n",
              "      <td>1</td>\n",
              "      <td>1</td>\n",
              "      <td>12</td>\n",
              "      <td>0</td>\n",
              "      <td>1</td>\n",
              "      <td>1</td>\n",
              "      <td>2</td>\n",
              "      <td>0.215833</td>\n",
              "      <td>...</td>\n",
              "      <td>1</td>\n",
              "      <td>1</td>\n",
              "      <td>1</td>\n",
              "      <td>0.26</td>\n",
              "      <td>0.2727</td>\n",
              "      <td>0.56</td>\n",
              "      <td>0.1343</td>\n",
              "      <td>13</td>\n",
              "      <td>48</td>\n",
              "      <td>61</td>\n",
              "    </tr>\n",
              "    <tr>\n",
              "      <th>17378</th>\n",
              "      <td>731</td>\n",
              "      <td>2012-12-31</td>\n",
              "      <td>1</td>\n",
              "      <td>1</td>\n",
              "      <td>12</td>\n",
              "      <td>0</td>\n",
              "      <td>1</td>\n",
              "      <td>1</td>\n",
              "      <td>2</td>\n",
              "      <td>0.215833</td>\n",
              "      <td>...</td>\n",
              "      <td>1</td>\n",
              "      <td>1</td>\n",
              "      <td>1</td>\n",
              "      <td>0.26</td>\n",
              "      <td>0.2727</td>\n",
              "      <td>0.65</td>\n",
              "      <td>0.1343</td>\n",
              "      <td>12</td>\n",
              "      <td>37</td>\n",
              "      <td>49</td>\n",
              "    </tr>\n",
              "  </tbody>\n",
              "</table>\n",
              "<p>17379 rows × 32 columns</p>\n",
              "</div>"
            ],
            "text/plain": [
              "       instant_daily      dteday  season_daily  yr_daily  mnth_daily  \\\n",
              "0                  1  2011-01-01             1         0           1   \n",
              "1                  1  2011-01-01             1         0           1   \n",
              "2                  1  2011-01-01             1         0           1   \n",
              "3                  1  2011-01-01             1         0           1   \n",
              "4                  1  2011-01-01             1         0           1   \n",
              "...              ...         ...           ...       ...         ...   \n",
              "17374            731  2012-12-31             1         1          12   \n",
              "17375            731  2012-12-31             1         1          12   \n",
              "17376            731  2012-12-31             1         1          12   \n",
              "17377            731  2012-12-31             1         1          12   \n",
              "17378            731  2012-12-31             1         1          12   \n",
              "\n",
              "       holiday_daily  weekday_daily  workingday_daily  weathersit_daily  \\\n",
              "0                  0              6                 0                 2   \n",
              "1                  0              6                 0                 2   \n",
              "2                  0              6                 0                 2   \n",
              "3                  0              6                 0                 2   \n",
              "4                  0              6                 0                 2   \n",
              "...              ...            ...               ...               ...   \n",
              "17374              0              1                 1                 2   \n",
              "17375              0              1                 1                 2   \n",
              "17376              0              1                 1                 2   \n",
              "17377              0              1                 1                 2   \n",
              "17378              0              1                 1                 2   \n",
              "\n",
              "       temp_daily  ...  weekday_hourly  workingday_hourly  weathersit_hourly  \\\n",
              "0        0.344167  ...               6                  0                  1   \n",
              "1        0.344167  ...               6                  0                  1   \n",
              "2        0.344167  ...               6                  0                  1   \n",
              "3        0.344167  ...               6                  0                  1   \n",
              "4        0.344167  ...               6                  0                  1   \n",
              "...           ...  ...             ...                ...                ...   \n",
              "17374    0.215833  ...               1                  1                  2   \n",
              "17375    0.215833  ...               1                  1                  2   \n",
              "17376    0.215833  ...               1                  1                  1   \n",
              "17377    0.215833  ...               1                  1                  1   \n",
              "17378    0.215833  ...               1                  1                  1   \n",
              "\n",
              "       temp_hourly  atemp_hourly  hum_hourly  windspeed_hourly  casual_hourly  \\\n",
              "0             0.24        0.2879        0.81            0.0000              3   \n",
              "1             0.22        0.2727        0.80            0.0000              8   \n",
              "2             0.22        0.2727        0.80            0.0000              5   \n",
              "3             0.24        0.2879        0.75            0.0000              3   \n",
              "4             0.24        0.2879        0.75            0.0000              0   \n",
              "...            ...           ...         ...               ...            ...   \n",
              "17374         0.26        0.2576        0.60            0.1642             11   \n",
              "17375         0.26        0.2576        0.60            0.1642              8   \n",
              "17376         0.26        0.2576        0.60            0.1642              7   \n",
              "17377         0.26        0.2727        0.56            0.1343             13   \n",
              "17378         0.26        0.2727        0.65            0.1343             12   \n",
              "\n",
              "       registered_hourly  cnt_hourly  \n",
              "0                     13          16  \n",
              "1                     32          40  \n",
              "2                     27          32  \n",
              "3                     10          13  \n",
              "4                      1           1  \n",
              "...                  ...         ...  \n",
              "17374                108         119  \n",
              "17375                 81          89  \n",
              "17376                 83          90  \n",
              "17377                 48          61  \n",
              "17378                 37          49  \n",
              "\n",
              "[17379 rows x 32 columns]"
            ]
          },
          "execution_count": 24,
          "metadata": {},
          "output_type": "execute_result"
        }
      ],
      "source": [
        "bike_merge = df_day.merge(\n",
        "    df_hour,\n",
        "    on='dteday',\n",
        "    how='inner',\n",
        "    suffixes=('_daily', '_hourly')\n",
        ")\n",
        "bike_merge"
      ]
    },
    {
      "cell_type": "markdown",
      "metadata": {
        "id": "FHSiqaZp8DC1"
      },
      "source": [
        "### Assessing Data"
      ]
    },
    {
      "cell_type": "markdown",
      "metadata": {
        "id": "ZZQSmdd7GARW"
      },
      "source": [
        "Memeriksa tipe data"
      ]
    },
    {
      "cell_type": "code",
      "execution_count": 25,
      "metadata": {
        "colab": {
          "base_uri": "https://localhost:8080/"
        },
        "id": "ax-3tEjc9Cj1",
        "outputId": "85e15b93-48b5-4899-9f29-ccce79394fd7"
      },
      "outputs": [
        {
          "name": "stdout",
          "output_type": "stream",
          "text": [
            "<class 'pandas.core.frame.DataFrame'>\n",
            "RangeIndex: 17379 entries, 0 to 17378\n",
            "Data columns (total 32 columns):\n",
            " #   Column             Non-Null Count  Dtype  \n",
            "---  ------             --------------  -----  \n",
            " 0   instant_daily      17379 non-null  int64  \n",
            " 1   dteday             17379 non-null  object \n",
            " 2   season_daily       17379 non-null  int64  \n",
            " 3   yr_daily           17379 non-null  int64  \n",
            " 4   mnth_daily         17379 non-null  int64  \n",
            " 5   holiday_daily      17379 non-null  int64  \n",
            " 6   weekday_daily      17379 non-null  int64  \n",
            " 7   workingday_daily   17379 non-null  int64  \n",
            " 8   weathersit_daily   17379 non-null  int64  \n",
            " 9   temp_daily         17379 non-null  float64\n",
            " 10  atemp_daily        17379 non-null  float64\n",
            " 11  hum_daily          17379 non-null  float64\n",
            " 12  windspeed_daily    17379 non-null  float64\n",
            " 13  casual_daily       17379 non-null  int64  \n",
            " 14  registered_daily   17379 non-null  int64  \n",
            " 15  cnt_daily          17379 non-null  int64  \n",
            " 16  instant_hourly     17379 non-null  int64  \n",
            " 17  season_hourly      17379 non-null  int64  \n",
            " 18  yr_hourly          17379 non-null  int64  \n",
            " 19  mnth_hourly        17379 non-null  int64  \n",
            " 20  hr                 17379 non-null  int64  \n",
            " 21  holiday_hourly     17379 non-null  int64  \n",
            " 22  weekday_hourly     17379 non-null  int64  \n",
            " 23  workingday_hourly  17379 non-null  int64  \n",
            " 24  weathersit_hourly  17379 non-null  int64  \n",
            " 25  temp_hourly        17379 non-null  float64\n",
            " 26  atemp_hourly       17379 non-null  float64\n",
            " 27  hum_hourly         17379 non-null  float64\n",
            " 28  windspeed_hourly   17379 non-null  float64\n",
            " 29  casual_hourly      17379 non-null  int64  \n",
            " 30  registered_hourly  17379 non-null  int64  \n",
            " 31  cnt_hourly         17379 non-null  int64  \n",
            "dtypes: float64(8), int64(23), object(1)\n",
            "memory usage: 4.2+ MB\n"
          ]
        }
      ],
      "source": [
        "bike_merge.info()"
      ]
    },
    {
      "cell_type": "markdown",
      "metadata": {
        "id": "hwfB8ulCIhkq"
      },
      "source": [
        "Dari hasil output di atas, diperoleh tipe data dteday yang tidak sesuai"
      ]
    },
    {
      "cell_type": "markdown",
      "metadata": {
        "id": "ZYLgPMULIz1F"
      },
      "source": [
        "Memeriksa missing values yang terdapat dalam setiap kolom"
      ]
    },
    {
      "cell_type": "code",
      "execution_count": 26,
      "metadata": {
        "colab": {
          "base_uri": "https://localhost:8080/",
          "height": 1000
        },
        "id": "ahUYGF9iEg1A",
        "outputId": "daa98d0a-1389-4df2-c16c-918e02dd466c"
      },
      "outputs": [
        {
          "data": {
            "text/plain": [
              "instant_daily        0\n",
              "dteday               0\n",
              "season_daily         0\n",
              "yr_daily             0\n",
              "mnth_daily           0\n",
              "holiday_daily        0\n",
              "weekday_daily        0\n",
              "workingday_daily     0\n",
              "weathersit_daily     0\n",
              "temp_daily           0\n",
              "atemp_daily          0\n",
              "hum_daily            0\n",
              "windspeed_daily      0\n",
              "casual_daily         0\n",
              "registered_daily     0\n",
              "cnt_daily            0\n",
              "instant_hourly       0\n",
              "season_hourly        0\n",
              "yr_hourly            0\n",
              "mnth_hourly          0\n",
              "hr                   0\n",
              "holiday_hourly       0\n",
              "weekday_hourly       0\n",
              "workingday_hourly    0\n",
              "weathersit_hourly    0\n",
              "temp_hourly          0\n",
              "atemp_hourly         0\n",
              "hum_hourly           0\n",
              "windspeed_hourly     0\n",
              "casual_hourly        0\n",
              "registered_hourly    0\n",
              "cnt_hourly           0\n",
              "dtype: int64"
            ]
          },
          "execution_count": 26,
          "metadata": {},
          "output_type": "execute_result"
        }
      ],
      "source": [
        "bike_merge.isna().sum()"
      ]
    },
    {
      "cell_type": "markdown",
      "metadata": {
        "id": "FxxE-doFaohO"
      },
      "source": [
        "Dari hasil di atas, dapat ditunjukan bahwa tidak ada data yang missing value"
      ]
    },
    {
      "cell_type": "markdown",
      "metadata": {
        "id": "5xqYnSaqJTTv"
      },
      "source": [
        "Memeriksa duplikasi data"
      ]
    },
    {
      "cell_type": "code",
      "execution_count": 27,
      "metadata": {
        "colab": {
          "base_uri": "https://localhost:8080/"
        },
        "id": "cZOXgX6CJWWS",
        "outputId": "46b6e03b-78b3-458a-970d-2c73a99a3f59"
      },
      "outputs": [
        {
          "name": "stdout",
          "output_type": "stream",
          "text": [
            "Jumlah duplikasi:  0\n"
          ]
        }
      ],
      "source": [
        "print(\"Jumlah duplikasi: \", bike_merge.duplicated().sum())"
      ]
    },
    {
      "cell_type": "markdown",
      "metadata": {
        "id": "vWIWBYMFav27"
      },
      "source": [
        "Dari output di atas, dapat ditunjukan bahwa tidak ada data yang duplikat"
      ]
    },
    {
      "cell_type": "markdown",
      "metadata": {
        "id": "jX6OX4YkJm1g"
      },
      "source": [
        "Memeriksa parameter statistik dari kolom numerik"
      ]
    },
    {
      "cell_type": "markdown",
      "metadata": {
        "id": "bEbJa0P2mUuZ"
      },
      "source": []
    },
    {
      "cell_type": "code",
      "execution_count": 28,
      "metadata": {
        "colab": {
          "base_uri": "https://localhost:8080/",
          "height": 349
        },
        "id": "qdYPE5PqJfYQ",
        "outputId": "d2cc1d35-f546-489a-f41a-ffe963f28475"
      },
      "outputs": [
        {
          "data": {
            "text/html": [
              "<div>\n",
              "<style scoped>\n",
              "    .dataframe tbody tr th:only-of-type {\n",
              "        vertical-align: middle;\n",
              "    }\n",
              "\n",
              "    .dataframe tbody tr th {\n",
              "        vertical-align: top;\n",
              "    }\n",
              "\n",
              "    .dataframe thead th {\n",
              "        text-align: right;\n",
              "    }\n",
              "</style>\n",
              "<table border=\"1\" class=\"dataframe\">\n",
              "  <thead>\n",
              "    <tr style=\"text-align: right;\">\n",
              "      <th></th>\n",
              "      <th>instant_daily</th>\n",
              "      <th>season_daily</th>\n",
              "      <th>yr_daily</th>\n",
              "      <th>mnth_daily</th>\n",
              "      <th>holiday_daily</th>\n",
              "      <th>weekday_daily</th>\n",
              "      <th>workingday_daily</th>\n",
              "      <th>weathersit_daily</th>\n",
              "      <th>temp_daily</th>\n",
              "      <th>atemp_daily</th>\n",
              "      <th>...</th>\n",
              "      <th>weekday_hourly</th>\n",
              "      <th>workingday_hourly</th>\n",
              "      <th>weathersit_hourly</th>\n",
              "      <th>temp_hourly</th>\n",
              "      <th>atemp_hourly</th>\n",
              "      <th>hum_hourly</th>\n",
              "      <th>windspeed_hourly</th>\n",
              "      <th>casual_hourly</th>\n",
              "      <th>registered_hourly</th>\n",
              "      <th>cnt_hourly</th>\n",
              "    </tr>\n",
              "  </thead>\n",
              "  <tbody>\n",
              "    <tr>\n",
              "      <th>count</th>\n",
              "      <td>17379.000000</td>\n",
              "      <td>17379.000000</td>\n",
              "      <td>17379.000000</td>\n",
              "      <td>17379.000000</td>\n",
              "      <td>17379.000000</td>\n",
              "      <td>17379.000000</td>\n",
              "      <td>17379.000000</td>\n",
              "      <td>17379.000000</td>\n",
              "      <td>17379.000000</td>\n",
              "      <td>17379.000000</td>\n",
              "      <td>...</td>\n",
              "      <td>17379.000000</td>\n",
              "      <td>17379.000000</td>\n",
              "      <td>17379.000000</td>\n",
              "      <td>17379.000000</td>\n",
              "      <td>17379.000000</td>\n",
              "      <td>17379.000000</td>\n",
              "      <td>17379.000000</td>\n",
              "      <td>17379.000000</td>\n",
              "      <td>17379.000000</td>\n",
              "      <td>17379.000000</td>\n",
              "    </tr>\n",
              "    <tr>\n",
              "      <th>mean</th>\n",
              "      <td>367.172622</td>\n",
              "      <td>2.501640</td>\n",
              "      <td>0.502561</td>\n",
              "      <td>6.537775</td>\n",
              "      <td>0.028770</td>\n",
              "      <td>3.003683</td>\n",
              "      <td>0.682721</td>\n",
              "      <td>1.391680</td>\n",
              "      <td>0.496987</td>\n",
              "      <td>0.475775</td>\n",
              "      <td>...</td>\n",
              "      <td>3.003683</td>\n",
              "      <td>0.682721</td>\n",
              "      <td>1.425283</td>\n",
              "      <td>0.496987</td>\n",
              "      <td>0.475775</td>\n",
              "      <td>0.627229</td>\n",
              "      <td>0.190098</td>\n",
              "      <td>35.676218</td>\n",
              "      <td>153.786869</td>\n",
              "      <td>189.463088</td>\n",
              "    </tr>\n",
              "    <tr>\n",
              "      <th>std</th>\n",
              "      <td>210.072051</td>\n",
              "      <td>1.106918</td>\n",
              "      <td>0.500008</td>\n",
              "      <td>3.438776</td>\n",
              "      <td>0.167165</td>\n",
              "      <td>2.005771</td>\n",
              "      <td>0.465431</td>\n",
              "      <td>0.540501</td>\n",
              "      <td>0.182445</td>\n",
              "      <td>0.162426</td>\n",
              "      <td>...</td>\n",
              "      <td>2.005771</td>\n",
              "      <td>0.465431</td>\n",
              "      <td>0.639357</td>\n",
              "      <td>0.192556</td>\n",
              "      <td>0.171850</td>\n",
              "      <td>0.192930</td>\n",
              "      <td>0.122340</td>\n",
              "      <td>49.305030</td>\n",
              "      <td>151.357286</td>\n",
              "      <td>181.387599</td>\n",
              "    </tr>\n",
              "    <tr>\n",
              "      <th>min</th>\n",
              "      <td>1.000000</td>\n",
              "      <td>1.000000</td>\n",
              "      <td>0.000000</td>\n",
              "      <td>1.000000</td>\n",
              "      <td>0.000000</td>\n",
              "      <td>0.000000</td>\n",
              "      <td>0.000000</td>\n",
              "      <td>1.000000</td>\n",
              "      <td>0.059130</td>\n",
              "      <td>0.079070</td>\n",
              "      <td>...</td>\n",
              "      <td>0.000000</td>\n",
              "      <td>0.000000</td>\n",
              "      <td>1.000000</td>\n",
              "      <td>0.020000</td>\n",
              "      <td>0.000000</td>\n",
              "      <td>0.000000</td>\n",
              "      <td>0.000000</td>\n",
              "      <td>0.000000</td>\n",
              "      <td>0.000000</td>\n",
              "      <td>1.000000</td>\n",
              "    </tr>\n",
              "    <tr>\n",
              "      <th>25%</th>\n",
              "      <td>185.000000</td>\n",
              "      <td>2.000000</td>\n",
              "      <td>0.000000</td>\n",
              "      <td>4.000000</td>\n",
              "      <td>0.000000</td>\n",
              "      <td>1.000000</td>\n",
              "      <td>0.000000</td>\n",
              "      <td>1.000000</td>\n",
              "      <td>0.340000</td>\n",
              "      <td>0.338363</td>\n",
              "      <td>...</td>\n",
              "      <td>1.000000</td>\n",
              "      <td>0.000000</td>\n",
              "      <td>1.000000</td>\n",
              "      <td>0.340000</td>\n",
              "      <td>0.333300</td>\n",
              "      <td>0.480000</td>\n",
              "      <td>0.104500</td>\n",
              "      <td>4.000000</td>\n",
              "      <td>34.000000</td>\n",
              "      <td>40.000000</td>\n",
              "    </tr>\n",
              "    <tr>\n",
              "      <th>50%</th>\n",
              "      <td>367.000000</td>\n",
              "      <td>3.000000</td>\n",
              "      <td>1.000000</td>\n",
              "      <td>7.000000</td>\n",
              "      <td>0.000000</td>\n",
              "      <td>3.000000</td>\n",
              "      <td>1.000000</td>\n",
              "      <td>1.000000</td>\n",
              "      <td>0.502500</td>\n",
              "      <td>0.490122</td>\n",
              "      <td>...</td>\n",
              "      <td>3.000000</td>\n",
              "      <td>1.000000</td>\n",
              "      <td>1.000000</td>\n",
              "      <td>0.500000</td>\n",
              "      <td>0.484800</td>\n",
              "      <td>0.630000</td>\n",
              "      <td>0.194000</td>\n",
              "      <td>17.000000</td>\n",
              "      <td>115.000000</td>\n",
              "      <td>142.000000</td>\n",
              "    </tr>\n",
              "    <tr>\n",
              "      <th>75%</th>\n",
              "      <td>549.000000</td>\n",
              "      <td>3.000000</td>\n",
              "      <td>1.000000</td>\n",
              "      <td>10.000000</td>\n",
              "      <td>0.000000</td>\n",
              "      <td>5.000000</td>\n",
              "      <td>1.000000</td>\n",
              "      <td>2.000000</td>\n",
              "      <td>0.655833</td>\n",
              "      <td>0.610488</td>\n",
              "      <td>...</td>\n",
              "      <td>5.000000</td>\n",
              "      <td>1.000000</td>\n",
              "      <td>2.000000</td>\n",
              "      <td>0.660000</td>\n",
              "      <td>0.621200</td>\n",
              "      <td>0.780000</td>\n",
              "      <td>0.253700</td>\n",
              "      <td>48.000000</td>\n",
              "      <td>220.000000</td>\n",
              "      <td>281.000000</td>\n",
              "    </tr>\n",
              "    <tr>\n",
              "      <th>max</th>\n",
              "      <td>731.000000</td>\n",
              "      <td>4.000000</td>\n",
              "      <td>1.000000</td>\n",
              "      <td>12.000000</td>\n",
              "      <td>1.000000</td>\n",
              "      <td>6.000000</td>\n",
              "      <td>1.000000</td>\n",
              "      <td>3.000000</td>\n",
              "      <td>0.861667</td>\n",
              "      <td>0.840896</td>\n",
              "      <td>...</td>\n",
              "      <td>6.000000</td>\n",
              "      <td>1.000000</td>\n",
              "      <td>4.000000</td>\n",
              "      <td>1.000000</td>\n",
              "      <td>1.000000</td>\n",
              "      <td>1.000000</td>\n",
              "      <td>0.850700</td>\n",
              "      <td>367.000000</td>\n",
              "      <td>886.000000</td>\n",
              "      <td>977.000000</td>\n",
              "    </tr>\n",
              "  </tbody>\n",
              "</table>\n",
              "<p>8 rows × 31 columns</p>\n",
              "</div>"
            ],
            "text/plain": [
              "       instant_daily  season_daily      yr_daily    mnth_daily  holiday_daily  \\\n",
              "count   17379.000000  17379.000000  17379.000000  17379.000000   17379.000000   \n",
              "mean      367.172622      2.501640      0.502561      6.537775       0.028770   \n",
              "std       210.072051      1.106918      0.500008      3.438776       0.167165   \n",
              "min         1.000000      1.000000      0.000000      1.000000       0.000000   \n",
              "25%       185.000000      2.000000      0.000000      4.000000       0.000000   \n",
              "50%       367.000000      3.000000      1.000000      7.000000       0.000000   \n",
              "75%       549.000000      3.000000      1.000000     10.000000       0.000000   \n",
              "max       731.000000      4.000000      1.000000     12.000000       1.000000   \n",
              "\n",
              "       weekday_daily  workingday_daily  weathersit_daily    temp_daily  \\\n",
              "count   17379.000000      17379.000000      17379.000000  17379.000000   \n",
              "mean        3.003683          0.682721          1.391680      0.496987   \n",
              "std         2.005771          0.465431          0.540501      0.182445   \n",
              "min         0.000000          0.000000          1.000000      0.059130   \n",
              "25%         1.000000          0.000000          1.000000      0.340000   \n",
              "50%         3.000000          1.000000          1.000000      0.502500   \n",
              "75%         5.000000          1.000000          2.000000      0.655833   \n",
              "max         6.000000          1.000000          3.000000      0.861667   \n",
              "\n",
              "        atemp_daily  ...  weekday_hourly  workingday_hourly  \\\n",
              "count  17379.000000  ...    17379.000000       17379.000000   \n",
              "mean       0.475775  ...        3.003683           0.682721   \n",
              "std        0.162426  ...        2.005771           0.465431   \n",
              "min        0.079070  ...        0.000000           0.000000   \n",
              "25%        0.338363  ...        1.000000           0.000000   \n",
              "50%        0.490122  ...        3.000000           1.000000   \n",
              "75%        0.610488  ...        5.000000           1.000000   \n",
              "max        0.840896  ...        6.000000           1.000000   \n",
              "\n",
              "       weathersit_hourly   temp_hourly  atemp_hourly    hum_hourly  \\\n",
              "count       17379.000000  17379.000000  17379.000000  17379.000000   \n",
              "mean            1.425283      0.496987      0.475775      0.627229   \n",
              "std             0.639357      0.192556      0.171850      0.192930   \n",
              "min             1.000000      0.020000      0.000000      0.000000   \n",
              "25%             1.000000      0.340000      0.333300      0.480000   \n",
              "50%             1.000000      0.500000      0.484800      0.630000   \n",
              "75%             2.000000      0.660000      0.621200      0.780000   \n",
              "max             4.000000      1.000000      1.000000      1.000000   \n",
              "\n",
              "       windspeed_hourly  casual_hourly  registered_hourly    cnt_hourly  \n",
              "count      17379.000000   17379.000000       17379.000000  17379.000000  \n",
              "mean           0.190098      35.676218         153.786869    189.463088  \n",
              "std            0.122340      49.305030         151.357286    181.387599  \n",
              "min            0.000000       0.000000           0.000000      1.000000  \n",
              "25%            0.104500       4.000000          34.000000     40.000000  \n",
              "50%            0.194000      17.000000         115.000000    142.000000  \n",
              "75%            0.253700      48.000000         220.000000    281.000000  \n",
              "max            0.850700     367.000000         886.000000    977.000000  \n",
              "\n",
              "[8 rows x 31 columns]"
            ]
          },
          "execution_count": 28,
          "metadata": {},
          "output_type": "execute_result"
        }
      ],
      "source": [
        "bike_merge.describe()"
      ]
    },
    {
      "cell_type": "markdown",
      "metadata": {
        "id": "bd2uSg7ea1gM"
      },
      "source": [
        "Dari output di atas, dapat ditunjukan bahwa tidak ada data yang outlier"
      ]
    },
    {
      "cell_type": "markdown",
      "metadata": {
        "id": "XUvuOsrcKHc-"
      },
      "source": [
        "Dari proses assesing data di atas, diperoleh kesimpulan bahwa data bike_merge tidak ada data yang missing value, duplicate, maupun inaccurate. Namun, terdapat satu kolom yang tidak sesuai dengan tipe data yang seharusnya yakni dteday"
      ]
    },
    {
      "cell_type": "markdown",
      "metadata": {
        "id": "EhN5R4hr8DC1"
      },
      "source": [
        "### Cleaning Data"
      ]
    },
    {
      "cell_type": "markdown",
      "metadata": {
        "id": "FexU57ulLHNM"
      },
      "source": [
        "Mengganti tipe data pada kolom dteday menjadi datetime"
      ]
    },
    {
      "cell_type": "code",
      "execution_count": 29,
      "metadata": {
        "id": "jVnYpprE9Evz"
      },
      "outputs": [],
      "source": [
        "datetime_columns = [\"dteday\"]\n",
        "\n",
        "for column in datetime_columns:\n",
        "  bike_merge[column] = pd.to_datetime(bike_merge[column])"
      ]
    },
    {
      "cell_type": "code",
      "execution_count": 30,
      "metadata": {
        "colab": {
          "base_uri": "https://localhost:8080/"
        },
        "id": "j_DFu_VALCBe",
        "outputId": "eb6d7282-1ce2-4abf-b17b-b7118e32cee4"
      },
      "outputs": [
        {
          "name": "stdout",
          "output_type": "stream",
          "text": [
            "<class 'pandas.core.frame.DataFrame'>\n",
            "RangeIndex: 17379 entries, 0 to 17378\n",
            "Data columns (total 32 columns):\n",
            " #   Column             Non-Null Count  Dtype         \n",
            "---  ------             --------------  -----         \n",
            " 0   instant_daily      17379 non-null  int64         \n",
            " 1   dteday             17379 non-null  datetime64[ns]\n",
            " 2   season_daily       17379 non-null  int64         \n",
            " 3   yr_daily           17379 non-null  int64         \n",
            " 4   mnth_daily         17379 non-null  int64         \n",
            " 5   holiday_daily      17379 non-null  int64         \n",
            " 6   weekday_daily      17379 non-null  int64         \n",
            " 7   workingday_daily   17379 non-null  int64         \n",
            " 8   weathersit_daily   17379 non-null  int64         \n",
            " 9   temp_daily         17379 non-null  float64       \n",
            " 10  atemp_daily        17379 non-null  float64       \n",
            " 11  hum_daily          17379 non-null  float64       \n",
            " 12  windspeed_daily    17379 non-null  float64       \n",
            " 13  casual_daily       17379 non-null  int64         \n",
            " 14  registered_daily   17379 non-null  int64         \n",
            " 15  cnt_daily          17379 non-null  int64         \n",
            " 16  instant_hourly     17379 non-null  int64         \n",
            " 17  season_hourly      17379 non-null  int64         \n",
            " 18  yr_hourly          17379 non-null  int64         \n",
            " 19  mnth_hourly        17379 non-null  int64         \n",
            " 20  hr                 17379 non-null  int64         \n",
            " 21  holiday_hourly     17379 non-null  int64         \n",
            " 22  weekday_hourly     17379 non-null  int64         \n",
            " 23  workingday_hourly  17379 non-null  int64         \n",
            " 24  weathersit_hourly  17379 non-null  int64         \n",
            " 25  temp_hourly        17379 non-null  float64       \n",
            " 26  atemp_hourly       17379 non-null  float64       \n",
            " 27  hum_hourly         17379 non-null  float64       \n",
            " 28  windspeed_hourly   17379 non-null  float64       \n",
            " 29  casual_hourly      17379 non-null  int64         \n",
            " 30  registered_hourly  17379 non-null  int64         \n",
            " 31  cnt_hourly         17379 non-null  int64         \n",
            "dtypes: datetime64[ns](1), float64(8), int64(23)\n",
            "memory usage: 4.2 MB\n"
          ]
        }
      ],
      "source": [
        "bike_merge.info()"
      ]
    },
    {
      "cell_type": "markdown",
      "metadata": {
        "id": "gp-Y6wU38DC1"
      },
      "source": [
        "## Exploratory Data Analysis (EDA)"
      ]
    },
    {
      "cell_type": "markdown",
      "metadata": {
        "id": "MW7WF2kr8DC1"
      },
      "source": [
        "### Explore ..."
      ]
    },
    {
      "cell_type": "code",
      "execution_count": 31,
      "metadata": {
        "colab": {
          "base_uri": "https://localhost:8080/",
          "height": 0
        },
        "id": "e9CQCZjk8DC2",
        "outputId": "d3da8a84-ed52-4258-a193-b588d7972e6e"
      },
      "outputs": [
        {
          "data": {
            "text/html": [
              "<div>\n",
              "<style scoped>\n",
              "    .dataframe tbody tr th:only-of-type {\n",
              "        vertical-align: middle;\n",
              "    }\n",
              "\n",
              "    .dataframe tbody tr th {\n",
              "        vertical-align: top;\n",
              "    }\n",
              "\n",
              "    .dataframe thead th {\n",
              "        text-align: right;\n",
              "    }\n",
              "</style>\n",
              "<table border=\"1\" class=\"dataframe\">\n",
              "  <thead>\n",
              "    <tr style=\"text-align: right;\">\n",
              "      <th></th>\n",
              "      <th>instant_daily</th>\n",
              "      <th>dteday</th>\n",
              "      <th>season_daily</th>\n",
              "      <th>yr_daily</th>\n",
              "      <th>mnth_daily</th>\n",
              "      <th>holiday_daily</th>\n",
              "      <th>weekday_daily</th>\n",
              "      <th>workingday_daily</th>\n",
              "      <th>weathersit_daily</th>\n",
              "      <th>temp_daily</th>\n",
              "      <th>...</th>\n",
              "      <th>weekday_hourly</th>\n",
              "      <th>workingday_hourly</th>\n",
              "      <th>weathersit_hourly</th>\n",
              "      <th>temp_hourly</th>\n",
              "      <th>atemp_hourly</th>\n",
              "      <th>hum_hourly</th>\n",
              "      <th>windspeed_hourly</th>\n",
              "      <th>casual_hourly</th>\n",
              "      <th>registered_hourly</th>\n",
              "      <th>cnt_hourly</th>\n",
              "    </tr>\n",
              "  </thead>\n",
              "  <tbody>\n",
              "    <tr>\n",
              "      <th>count</th>\n",
              "      <td>17379.000000</td>\n",
              "      <td>17379</td>\n",
              "      <td>17379.000000</td>\n",
              "      <td>17379.000000</td>\n",
              "      <td>17379.000000</td>\n",
              "      <td>17379.000000</td>\n",
              "      <td>17379.000000</td>\n",
              "      <td>17379.000000</td>\n",
              "      <td>17379.000000</td>\n",
              "      <td>17379.000000</td>\n",
              "      <td>...</td>\n",
              "      <td>17379.000000</td>\n",
              "      <td>17379.000000</td>\n",
              "      <td>17379.000000</td>\n",
              "      <td>17379.000000</td>\n",
              "      <td>17379.000000</td>\n",
              "      <td>17379.000000</td>\n",
              "      <td>17379.000000</td>\n",
              "      <td>17379.000000</td>\n",
              "      <td>17379.000000</td>\n",
              "      <td>17379.000000</td>\n",
              "    </tr>\n",
              "    <tr>\n",
              "      <th>mean</th>\n",
              "      <td>367.172622</td>\n",
              "      <td>2012-01-02 04:08:34.552045568</td>\n",
              "      <td>2.501640</td>\n",
              "      <td>0.502561</td>\n",
              "      <td>6.537775</td>\n",
              "      <td>0.028770</td>\n",
              "      <td>3.003683</td>\n",
              "      <td>0.682721</td>\n",
              "      <td>1.391680</td>\n",
              "      <td>0.496987</td>\n",
              "      <td>...</td>\n",
              "      <td>3.003683</td>\n",
              "      <td>0.682721</td>\n",
              "      <td>1.425283</td>\n",
              "      <td>0.496987</td>\n",
              "      <td>0.475775</td>\n",
              "      <td>0.627229</td>\n",
              "      <td>0.190098</td>\n",
              "      <td>35.676218</td>\n",
              "      <td>153.786869</td>\n",
              "      <td>189.463088</td>\n",
              "    </tr>\n",
              "    <tr>\n",
              "      <th>min</th>\n",
              "      <td>1.000000</td>\n",
              "      <td>2011-01-01 00:00:00</td>\n",
              "      <td>1.000000</td>\n",
              "      <td>0.000000</td>\n",
              "      <td>1.000000</td>\n",
              "      <td>0.000000</td>\n",
              "      <td>0.000000</td>\n",
              "      <td>0.000000</td>\n",
              "      <td>1.000000</td>\n",
              "      <td>0.059130</td>\n",
              "      <td>...</td>\n",
              "      <td>0.000000</td>\n",
              "      <td>0.000000</td>\n",
              "      <td>1.000000</td>\n",
              "      <td>0.020000</td>\n",
              "      <td>0.000000</td>\n",
              "      <td>0.000000</td>\n",
              "      <td>0.000000</td>\n",
              "      <td>0.000000</td>\n",
              "      <td>0.000000</td>\n",
              "      <td>1.000000</td>\n",
              "    </tr>\n",
              "    <tr>\n",
              "      <th>25%</th>\n",
              "      <td>185.000000</td>\n",
              "      <td>2011-07-04 00:00:00</td>\n",
              "      <td>2.000000</td>\n",
              "      <td>0.000000</td>\n",
              "      <td>4.000000</td>\n",
              "      <td>0.000000</td>\n",
              "      <td>1.000000</td>\n",
              "      <td>0.000000</td>\n",
              "      <td>1.000000</td>\n",
              "      <td>0.340000</td>\n",
              "      <td>...</td>\n",
              "      <td>1.000000</td>\n",
              "      <td>0.000000</td>\n",
              "      <td>1.000000</td>\n",
              "      <td>0.340000</td>\n",
              "      <td>0.333300</td>\n",
              "      <td>0.480000</td>\n",
              "      <td>0.104500</td>\n",
              "      <td>4.000000</td>\n",
              "      <td>34.000000</td>\n",
              "      <td>40.000000</td>\n",
              "    </tr>\n",
              "    <tr>\n",
              "      <th>50%</th>\n",
              "      <td>367.000000</td>\n",
              "      <td>2012-01-02 00:00:00</td>\n",
              "      <td>3.000000</td>\n",
              "      <td>1.000000</td>\n",
              "      <td>7.000000</td>\n",
              "      <td>0.000000</td>\n",
              "      <td>3.000000</td>\n",
              "      <td>1.000000</td>\n",
              "      <td>1.000000</td>\n",
              "      <td>0.502500</td>\n",
              "      <td>...</td>\n",
              "      <td>3.000000</td>\n",
              "      <td>1.000000</td>\n",
              "      <td>1.000000</td>\n",
              "      <td>0.500000</td>\n",
              "      <td>0.484800</td>\n",
              "      <td>0.630000</td>\n",
              "      <td>0.194000</td>\n",
              "      <td>17.000000</td>\n",
              "      <td>115.000000</td>\n",
              "      <td>142.000000</td>\n",
              "    </tr>\n",
              "    <tr>\n",
              "      <th>75%</th>\n",
              "      <td>549.000000</td>\n",
              "      <td>2012-07-02 00:00:00</td>\n",
              "      <td>3.000000</td>\n",
              "      <td>1.000000</td>\n",
              "      <td>10.000000</td>\n",
              "      <td>0.000000</td>\n",
              "      <td>5.000000</td>\n",
              "      <td>1.000000</td>\n",
              "      <td>2.000000</td>\n",
              "      <td>0.655833</td>\n",
              "      <td>...</td>\n",
              "      <td>5.000000</td>\n",
              "      <td>1.000000</td>\n",
              "      <td>2.000000</td>\n",
              "      <td>0.660000</td>\n",
              "      <td>0.621200</td>\n",
              "      <td>0.780000</td>\n",
              "      <td>0.253700</td>\n",
              "      <td>48.000000</td>\n",
              "      <td>220.000000</td>\n",
              "      <td>281.000000</td>\n",
              "    </tr>\n",
              "    <tr>\n",
              "      <th>max</th>\n",
              "      <td>731.000000</td>\n",
              "      <td>2012-12-31 00:00:00</td>\n",
              "      <td>4.000000</td>\n",
              "      <td>1.000000</td>\n",
              "      <td>12.000000</td>\n",
              "      <td>1.000000</td>\n",
              "      <td>6.000000</td>\n",
              "      <td>1.000000</td>\n",
              "      <td>3.000000</td>\n",
              "      <td>0.861667</td>\n",
              "      <td>...</td>\n",
              "      <td>6.000000</td>\n",
              "      <td>1.000000</td>\n",
              "      <td>4.000000</td>\n",
              "      <td>1.000000</td>\n",
              "      <td>1.000000</td>\n",
              "      <td>1.000000</td>\n",
              "      <td>0.850700</td>\n",
              "      <td>367.000000</td>\n",
              "      <td>886.000000</td>\n",
              "      <td>977.000000</td>\n",
              "    </tr>\n",
              "    <tr>\n",
              "      <th>std</th>\n",
              "      <td>210.072051</td>\n",
              "      <td>NaN</td>\n",
              "      <td>1.106918</td>\n",
              "      <td>0.500008</td>\n",
              "      <td>3.438776</td>\n",
              "      <td>0.167165</td>\n",
              "      <td>2.005771</td>\n",
              "      <td>0.465431</td>\n",
              "      <td>0.540501</td>\n",
              "      <td>0.182445</td>\n",
              "      <td>...</td>\n",
              "      <td>2.005771</td>\n",
              "      <td>0.465431</td>\n",
              "      <td>0.639357</td>\n",
              "      <td>0.192556</td>\n",
              "      <td>0.171850</td>\n",
              "      <td>0.192930</td>\n",
              "      <td>0.122340</td>\n",
              "      <td>49.305030</td>\n",
              "      <td>151.357286</td>\n",
              "      <td>181.387599</td>\n",
              "    </tr>\n",
              "  </tbody>\n",
              "</table>\n",
              "<p>8 rows × 32 columns</p>\n",
              "</div>"
            ],
            "text/plain": [
              "       instant_daily                         dteday  season_daily  \\\n",
              "count   17379.000000                          17379  17379.000000   \n",
              "mean      367.172622  2012-01-02 04:08:34.552045568      2.501640   \n",
              "min         1.000000            2011-01-01 00:00:00      1.000000   \n",
              "25%       185.000000            2011-07-04 00:00:00      2.000000   \n",
              "50%       367.000000            2012-01-02 00:00:00      3.000000   \n",
              "75%       549.000000            2012-07-02 00:00:00      3.000000   \n",
              "max       731.000000            2012-12-31 00:00:00      4.000000   \n",
              "std       210.072051                            NaN      1.106918   \n",
              "\n",
              "           yr_daily    mnth_daily  holiday_daily  weekday_daily  \\\n",
              "count  17379.000000  17379.000000   17379.000000   17379.000000   \n",
              "mean       0.502561      6.537775       0.028770       3.003683   \n",
              "min        0.000000      1.000000       0.000000       0.000000   \n",
              "25%        0.000000      4.000000       0.000000       1.000000   \n",
              "50%        1.000000      7.000000       0.000000       3.000000   \n",
              "75%        1.000000     10.000000       0.000000       5.000000   \n",
              "max        1.000000     12.000000       1.000000       6.000000   \n",
              "std        0.500008      3.438776       0.167165       2.005771   \n",
              "\n",
              "       workingday_daily  weathersit_daily    temp_daily  ...  weekday_hourly  \\\n",
              "count      17379.000000      17379.000000  17379.000000  ...    17379.000000   \n",
              "mean           0.682721          1.391680      0.496987  ...        3.003683   \n",
              "min            0.000000          1.000000      0.059130  ...        0.000000   \n",
              "25%            0.000000          1.000000      0.340000  ...        1.000000   \n",
              "50%            1.000000          1.000000      0.502500  ...        3.000000   \n",
              "75%            1.000000          2.000000      0.655833  ...        5.000000   \n",
              "max            1.000000          3.000000      0.861667  ...        6.000000   \n",
              "std            0.465431          0.540501      0.182445  ...        2.005771   \n",
              "\n",
              "       workingday_hourly  weathersit_hourly   temp_hourly  atemp_hourly  \\\n",
              "count       17379.000000       17379.000000  17379.000000  17379.000000   \n",
              "mean            0.682721           1.425283      0.496987      0.475775   \n",
              "min             0.000000           1.000000      0.020000      0.000000   \n",
              "25%             0.000000           1.000000      0.340000      0.333300   \n",
              "50%             1.000000           1.000000      0.500000      0.484800   \n",
              "75%             1.000000           2.000000      0.660000      0.621200   \n",
              "max             1.000000           4.000000      1.000000      1.000000   \n",
              "std             0.465431           0.639357      0.192556      0.171850   \n",
              "\n",
              "         hum_hourly  windspeed_hourly  casual_hourly  registered_hourly  \\\n",
              "count  17379.000000      17379.000000   17379.000000       17379.000000   \n",
              "mean       0.627229          0.190098      35.676218         153.786869   \n",
              "min        0.000000          0.000000       0.000000           0.000000   \n",
              "25%        0.480000          0.104500       4.000000          34.000000   \n",
              "50%        0.630000          0.194000      17.000000         115.000000   \n",
              "75%        0.780000          0.253700      48.000000         220.000000   \n",
              "max        1.000000          0.850700     367.000000         886.000000   \n",
              "std        0.192930          0.122340      49.305030         151.357286   \n",
              "\n",
              "         cnt_hourly  \n",
              "count  17379.000000  \n",
              "mean     189.463088  \n",
              "min        1.000000  \n",
              "25%       40.000000  \n",
              "50%      142.000000  \n",
              "75%      281.000000  \n",
              "max      977.000000  \n",
              "std      181.387599  \n",
              "\n",
              "[8 rows x 32 columns]"
            ]
          },
          "execution_count": 31,
          "metadata": {},
          "output_type": "execute_result"
        }
      ],
      "source": [
        "bike_merge.describe(include=\"all\")"
      ]
    },
    {
      "cell_type": "markdown",
      "metadata": {
        "id": "bVo1SPnAdEgA"
      },
      "source": [
        "Hasil output di atas menunjukan bahwa terdapat 4 musim selama tahun 2011-2012.\n",
        "\n",
        "Berdasarkan penjelasan dataset pada kaggle diperoleh bahwa masing-masing angka pada kolom season memiliki interpretasi masing-masing.\n",
        "\n",
        "\n",
        "\n",
        "1.   Clear, Few clouds, Partly cloudy, Partly cloudy\n",
        "2.   Mist + Cloudy, Mist + Broken clouds, Mist + Few clouds, Mist\n",
        "3.  Light Snow, Light Rain + Thunderstorm + Scattered clouds, Light Rain + Scattered clouds\n",
        "4. Heavy Rain + Ice Pallets + Thunderstorm + Mist, Snow + Fog\n",
        "\n",
        "Rata-rata musim yang terjadi ditunjukan pada angka 2.501640 yang artinya musim berada di antara mist+claudy dan light snow\n",
        "\n"
      ]
    },
    {
      "cell_type": "markdown",
      "metadata": {
        "id": "Ry-UdnAjnvsT"
      },
      "source": [
        "Menunjukan jenis musim ketika sewa sepeda memiliki banyak penyewa"
      ]
    },
    {
      "cell_type": "code",
      "execution_count": 32,
      "metadata": {
        "colab": {
          "base_uri": "https://localhost:8080/",
          "height": 0
        },
        "id": "gVPm9p-OpFeo",
        "outputId": "2591d425-43dc-4829-e6a6-72f78c825013"
      },
      "outputs": [
        {
          "data": {
            "text/plain": [
              "season_daily\n",
              "1    4242\n",
              "2    4409\n",
              "3    4496\n",
              "4    4232\n",
              "Name: cnt_daily, dtype: int64"
            ]
          },
          "execution_count": 32,
          "metadata": {},
          "output_type": "execute_result"
        }
      ],
      "source": [
        "bike_merge.groupby(by=\"season_daily\").cnt_daily.count()"
      ]
    },
    {
      "cell_type": "markdown",
      "metadata": {
        "id": "dPposAeumTBO"
      },
      "source": [
        "Hasil output di atas menunjukan bahwa pada musim ke-3 atau musim _\"Light Snow, Light Rain + Thunderstorm + Scattered clouds, Light Rain + Scattered clouds\"_ memiliki jumlah penyewa yang terbanyak yakni sebesar 4496"
      ]
    },
    {
      "cell_type": "markdown",
      "metadata": {
        "id": "gP4vZ_MuyKcm"
      },
      "source": [
        "Menunjukan jam ketika terdapat banyak penyewa"
      ]
    },
    {
      "cell_type": "code",
      "execution_count": 33,
      "metadata": {
        "colab": {
          "base_uri": "https://localhost:8080/",
          "height": 0
        },
        "id": "lE3e21O3k38X",
        "outputId": "6c51bb10-438f-425c-8af0-f25546db17fa"
      },
      "outputs": [
        {
          "data": {
            "text/plain": [
              "hr\n",
              "0     726\n",
              "1     724\n",
              "2     715\n",
              "3     697\n",
              "4     697\n",
              "5     717\n",
              "6     725\n",
              "7     727\n",
              "8     727\n",
              "9     727\n",
              "10    727\n",
              "11    727\n",
              "12    728\n",
              "13    729\n",
              "14    729\n",
              "15    729\n",
              "16    730\n",
              "17    730\n",
              "18    728\n",
              "19    728\n",
              "20    728\n",
              "21    728\n",
              "22    728\n",
              "23    728\n",
              "Name: cnt_hourly, dtype: int64"
            ]
          },
          "execution_count": 33,
          "metadata": {},
          "output_type": "execute_result"
        }
      ],
      "source": [
        "bike_merge.groupby(by=\"hr\").cnt_hourly.count()"
      ]
    },
    {
      "cell_type": "markdown",
      "metadata": {
        "id": "zsyZjqak8DC2"
      },
      "source": [
        "## Visualization & Explanatory Analysis"
      ]
    },
    {
      "cell_type": "markdown",
      "metadata": {
        "id": "eTdKJnYEpsar"
      },
      "source": [
        "### Pertanyaan 1: Seberapa sering pelanggan menyewa sepeda dalam beberapa bulan terakhir?"
      ]
    },
    {
      "cell_type": "markdown",
      "metadata": {
        "id": "SdQhB2vV1OPf"
      },
      "source": [
        "Menggunakan RFM analysis untuk mendapatkan nilai frequency tingkat keseringan seorang pelanggan melakukan sewa dalam beberapa bulan terakhir"
      ]
    },
    {
      "cell_type": "code",
      "execution_count": 34,
      "metadata": {
        "colab": {
          "base_uri": "https://localhost:8080/"
        },
        "id": "gVNet9qg1Y6b",
        "outputId": "df95fbd7-68d0-485c-f9a5-2e23d5ef38d9"
      },
      "outputs": [
        {
          "name": "stdout",
          "output_type": "stream",
          "text": [
            "    month  recency  frequency\n",
            "0       1      335       1429\n",
            "1       2      306       1341\n",
            "2       3      275       1473\n",
            "3       4      245       1437\n",
            "4       5      214       1488\n",
            "5       6      184       1440\n",
            "6       7      153       1488\n",
            "7       8      122       1475\n",
            "8       9       92       1437\n",
            "9      10       61       1451\n",
            "10     11       31       1437\n",
            "11     12        0       1483\n"
          ]
        }
      ],
      "source": [
        "tanggal_sekarang = bike_merge['dteday'].max()\n",
        "\n",
        "rf_df = bike_merge.groupby('mnth_daily').agg({\n",
        "    'dteday': lambda x: (tanggal_sekarang - x.max()).days,\n",
        "    'cnt_daily': 'count'\n",
        "}).reset_index()\n",
        "\n",
        "# Mengganti nama kolom\n",
        "rf_df.columns = ['month', 'recency', 'frequency']\n",
        "\n",
        "# Menampilkan DataFrame RF\n",
        "print(rf_df)"
      ]
    },
    {
      "cell_type": "code",
      "execution_count": 39,
      "metadata": {
        "colab": {
          "base_uri": "https://localhost:8080/",
          "height": 0
        },
        "id": "fpK-5WX08wtm",
        "outputId": "fb6d393f-00ca-4dce-fac9-0e96f4e38166"
      },
      "outputs": [
        {
          "name": "stderr",
          "output_type": "stream",
          "text": [
            "C:\\Users\\alzan\\AppData\\Local\\Temp\\ipykernel_13196\\2519904047.py:5: FutureWarning: \n",
            "\n",
            "Passing `palette` without assigning `hue` is deprecated and will be removed in v0.14.0. Assign the `x` variable to `hue` and set `legend=False` for the same effect.\n",
            "\n",
            "  sns.barplot(y=\"frequency\", x=\"month\", data=rf_df.sort_values(by=\"frequency\", ascending=False).head(5), palette=colors, ax=ax[1])\n",
            "C:\\Users\\alzan\\AppData\\Local\\Temp\\ipykernel_13196\\2519904047.py:12: FutureWarning: \n",
            "\n",
            "Passing `palette` without assigning `hue` is deprecated and will be removed in v0.14.0. Assign the `x` variable to `hue` and set `legend=False` for the same effect.\n",
            "\n",
            "  sns.barplot(y=\"recency\", x=\"month\", data=rf_df.sort_values(by=\"recency\", ascending=True).head(5), palette=colors, ax=ax[0])\n"
          ]
        },
        {
          "data": {
            "image/png": "[encoded data removed]",
            "text/plain": [
              "<Figure size 3000x600 with 2 Axes>"
            ]
          },
          "metadata": {},
          "output_type": "display_data"
        }
      ],
      "source": [
        "fig, ax = plt.subplots(nrows=1, ncols=2, figsize=(30, 6))\n",
        "\n",
        "colors = [\"#469530\", \"#469530\", \"#469530\", \"#469530\", \"#469530\"]\n",
        "\n",
        "sns.barplot(y=\"frequency\", x=\"month\", data=rf_df.sort_values(by=\"frequency\", ascending=False).head(5), palette=colors, ax=ax[1])\n",
        "ax[1].set_xlabel(None)\n",
        "ax[1].set_ylabel(None)\n",
        "ax[1].set_title(\" Berdasarkan Frekuensi\", loc=\"center\", fontsize=18)\n",
        "ax[1].tick_params(axis='x', labelsize=15)\n",
        "\n",
        "\n",
        "sns.barplot(y=\"recency\", x=\"month\", data=rf_df.sort_values(by=\"recency\", ascending=True).head(5), palette=colors, ax=ax[0])\n",
        "ax[0].set_ylabel(None)\n",
        "ax[0].set_xlabel(None)\n",
        "ax[0].set_title(\"Berdasarkan Recency (hari)\", loc=\"center\", fontsize=18)\n",
        "ax[0].tick_params(axis ='x', labelsize=15)\n",
        "\n",
        "\n",
        "plt.suptitle(\"Pelanggan Terbaik Berdasarkan Parameter RF (customer_id)\", fontsize=20)\n",
        "plt.show()"
      ]
    },
    {
      "cell_type": "markdown",
      "metadata": {
        "id": "HZxOiQ6n8DC2"
      },
      "source": [
        "### Pertanyaan 2: Pada musim apa jumlah penyewaan sepeda mencapai puncaknya?"
      ]
    },
    {
      "cell_type": "code",
      "execution_count": 36,
      "metadata": {
        "colab": {
          "base_uri": "https://localhost:8080/",
          "height": 0
        },
        "id": "1swJUdAD8DC2",
        "outputId": "e939f264-a2bf-4253-8084-999c54e4750c"
      },
      "outputs": [
        {
          "name": "stderr",
          "output_type": "stream",
          "text": [
            "C:\\Users\\alzan\\AppData\\Local\\Temp\\ipykernel_13196\\4084704541.py:6: FutureWarning: \n",
            "\n",
            "Passing `palette` without assigning `hue` is deprecated and will be removed in v0.14.0. Assign the `x` variable to `hue` and set `legend=False` for the same effect.\n",
            "\n",
            "  sns.barplot(\n",
            "C:\\Users\\alzan\\AppData\\Local\\Temp\\ipykernel_13196\\4084704541.py:6: UserWarning: The palette list has more values (5) than needed (4), which may not be intended.\n",
            "  sns.barplot(\n"
          ]
        },
        {
          "data": {
            "image/png": "[encoded data removed]",
            "text/plain": [
              "<Figure size 1200x600 with 1 Axes>"
            ]
          },
          "metadata": {},
          "output_type": "display_data"
        }
      ],
      "source": [
        "colors = [\"#D3D3D3\", \"#D3D3D3\", \"#469536\", \"#D3D3D3\", \"#D3D3D3\"]\n",
        "byseason_df = bike_merge.groupby(by=\"season_daily\").cnt_daily.nunique().reset_index()\n",
        "\n",
        "plt.figure(figsize=(12, 6))\n",
        "\n",
        "sns.barplot(\n",
        "    y=\"cnt_daily\",\n",
        "    x=\"season_daily\",\n",
        "    data=byseason_df.sort_values(by=\"cnt_daily\", ascending=False),\n",
        "    palette=colors\n",
        ")\n",
        "plt.title(\"musim dengan pelanggan terbanyak\", loc=\"center\", fontsize=10)\n",
        "plt.ylabel(None)\n",
        "plt.xlabel(None)\n",
        "plt.tick_params(axis='x', labelsize=10)\n",
        "plt.show()"
      ]
    },
    {
      "cell_type": "markdown",
      "metadata": {
        "id": "Q9uhg7hBxRwZ"
      },
      "source": [
        "Hasil plot di atas menunjukan bahwa pada musim ke-3 atau musim Light Snow, Light Rain + Thunderstorm + Scattered clouds, Light Rain + Scattered clouds memiliki jumlah penyewa yang terbanyak"
      ]
    },
    {
      "cell_type": "markdown",
      "metadata": {
        "id": "DgHI7CiU8DC2"
      },
      "source": [
        "### Pertanyaan 3: Bagaimana pola jumlah penyewaan sepeda berdasarkan waktu, baik secara jam maupun bulanan? Pada jam dan bulan berapa penyewaan meningkat?"
      ]
    },
    {
      "cell_type": "markdown",
      "metadata": {
        "id": "EMvfg6DvyeDx"
      },
      "source": [
        "Pola berdasarkan jam"
      ]
    },
    {
      "cell_type": "code",
      "execution_count": 37,
      "metadata": {
        "colab": {
          "base_uri": "https://localhost:8080/",
          "height": 0
        },
        "id": "Go0lCsvO8DC2",
        "outputId": "e5a76051-5daa-4387-aa0e-4ec587906d03"
      },
      "outputs": [
        {
          "name": "stderr",
          "output_type": "stream",
          "text": [
            "C:\\Users\\alzan\\AppData\\Local\\Temp\\ipykernel_13196\\1380247446.py:3: FutureWarning: \n",
            "\n",
            "The `ci` parameter is deprecated. Use `errorbar=None` for the same effect.\n",
            "\n",
            "  sns.lineplot(x=\"hr\", y=\"cnt_hourly\", data=bike_merge, ci=None)\n"
          ]
        },
        {
          "data": {
            "image/png": "[encoded data removed]",
            "text/plain": [
              "<Figure size 1200x600 with 1 Axes>"
            ]
          },
          "metadata": {},
          "output_type": "display_data"
        }
      ],
      "source": [
        "sns.set_style(\"whitegrid\")\n",
        "plt.figure(figsize=(12, 6))\n",
        "sns.lineplot(x=\"hr\", y=\"cnt_hourly\", data=bike_merge, ci=None)\n",
        "plt.title(\"Jumlah Sewa Sepeda Harian (berdasarkan jam)\")\n",
        "plt.xlabel(\"Jam\")\n",
        "plt.ylabel(\"Jumlah Sewa Sepeda Harian\")\n",
        "plt.show()"
      ]
    },
    {
      "cell_type": "markdown",
      "metadata": {
        "id": "1_9PPW8u0tAA"
      },
      "source": [
        "Pola berdasarkan bulan"
      ]
    },
    {
      "cell_type": "markdown",
      "metadata": {
        "id": "_WeHlCeX8DC2"
      },
      "source": [
        "## Conclusion"
      ]
    },
    {
      "cell_type": "markdown",
      "metadata": {
        "id": "ZTcyR48Y8DC2"
      },
      "source": [
        "- **Kesimpulan Pertanyaan 1:**\n",
        "  Dalam beberapa bulan terakhir, data menunjukkan bahwa pelanggan sering melakukan penyewaan sepeda, terlihat dari nilai recency yang menurun. Selain itu, frekuensi penyewaan yang tinggi juga menunjukkan adanya peningkatan jumlah penyewa pada periode tersebut.\n",
        "\n",
        "- **Kesimpulan Pertanyaan 2:**\n",
        "  Analisis data bike sharing mengungkapkan bahwa jumlah pelanggan paling tinggi terjadi pada musim \"Light Snow, Light Rain + Thunderstorm + Scattered clouds, dan Light Rain + Scattered clouds.\" Ini mungkin disebabkan oleh preferensi pelanggan untuk bersepeda dalam cuaca yang tidak terlalu panas, membuat musim-musim tersebut ideal untuk aktivitas bersepeda.\n",
        "\n",
        "- **Kesimpulan Pertanyaan 3:**\n",
        "  Data menunjukkan bahwa penyewaan sepeda cenderung meningkat pada jam 16.00-17.00, mengindikasikan bahwa banyak pelanggan yang memilih waktu sore untuk bersepeda."
      ]
    }
  ],
  "metadata": {
    "colab": {
      "collapsed_sections": [
        "gp-Y6wU38DC1",
        "eTdKJnYEpsar",
        "HZxOiQ6n8DC2",
        "DgHI7CiU8DC2"
      ],
      "provenance": []
    },
    "kernelspec": {
      "display_name": "Python 3",
      "language": "python",
      "name": "python3"
    },
    "language_info": {
      "codemirror_mode": {
        "name": "ipython",
        "version": 3
      },
      "file_extension": ".py",
      "mimetype": "text/x-python",
      "name": "python",
      "nbconvert_exporter": "python",
      "pygments_lexer": "ipython3",
      "version": "3.12.2"
    },
    "orig_nbformat": 4,
    "vscode": {
      "interpreter": {
        "hash": "972b3bf27e332e87b5379f2791f6ef9dfc79c71018c370b0d7423235e20fe4d7"
      }
    }
  },
  "nbformat": 4,
  "nbformat_minor": 0
}
